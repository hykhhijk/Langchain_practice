{
 "cells": [
  {
   "cell_type": "markdown",
   "metadata": {},
   "source": [
    "# 웹 검색 도구"
   ]
  },
  {
   "cell_type": "code",
   "execution_count": 1,
   "metadata": {},
   "outputs": [],
   "source": [
    "from langchain_community.tools import TavilySearchResults"
   ]
  },
  {
   "cell_type": "code",
   "execution_count": 2,
   "metadata": {},
   "outputs": [],
   "source": [
    "query = \"2025년 애플의 주가 전망에 대해서 분석하세요.\""
   ]
  },
  {
   "cell_type": "code",
   "execution_count": 3,
   "metadata": {},
   "outputs": [],
   "source": [
    "web_search = TavilySearchResults(max_results=2)"
   ]
  },
  {
   "cell_type": "code",
   "execution_count": 4,
   "metadata": {},
   "outputs": [],
   "source": [
    "search_results = web_search.invoke(query)"
   ]
  },
  {
   "cell_type": "code",
   "execution_count": 5,
   "metadata": {},
   "outputs": [
    {
     "name": "stdout",
     "output_type": "stream",
     "text": [
      "{'url': 'https://therapycenter.kr/contents/애플-주식-분석-2025년-8월-전망과-투자-전략/', 'content': '애플 주식 분석: 2025년 8월 전망과 투자 전략 애플 주식 분석: 2025년 8월 전망과 투자 전략 특히 2025년 8월을 기준으로 애플 주식의 향후 전망은 기술 혁신, 제품 출시, 그리고 글로벌 경제 동향에 따라 중요한 변화를 맞이할 수 있습니다. 2025년 애플 주식 전망 2. 2025년 애플 주식 전망 애플의 성장 요인은 크게 세 가지로 나눌 수 있습니다:- 제품 혁신: 매년 새로운 아이폰, 아이패드, 맥북 등 고품질 제품을 출시하며, 지속적인 수요를 창출합니다.- 서비스 부문 확대: 디지털 콘텐츠, 구독 서비스, 금융 서비스 등 다양한 부문에서의 성장이 애플의 수익성을 높이고 있습니다.- 지속적인 R&D 투자: 인공지능, 증강 현실, 헬스케어 등 미래 기술에 대한 투자는 애플의 장기적인 성장 가능성을 보여줍니다. 애플의 향후 주가와 관련된 더 많은 분석은 Apple Inc. 주식 분석 2025년 8월의 인사이트와 전망에서 확인할 수 있습니다.'}\n",
      "----------------------------------------------------------------------------------------------------\n",
      "{'url': 'https://coding-investor.tistory.com/33', 'content': '현재 애플의 주가는 247.96달러(2024년 12월 12일 종가 기준)이며, 시가총액은 약 3.75조 달러로 전 세계 1위를 유지하고 있습니다. 지난 1년간 주가는 25.87% 상승했습니다. ... 주가 전망: 전문가들은 2025년 애플 주가를 236~275'}\n",
      "----------------------------------------------------------------------------------------------------\n"
     ]
    }
   ],
   "source": [
    "for result in search_results:\n",
    "    print(result)\n",
    "    print(\"-\" * 100)"
   ]
  },
  {
   "cell_type": "code",
   "execution_count": 7,
   "metadata": {},
   "outputs": [
    {
     "name": "stderr",
     "output_type": "stream",
     "text": [
      "/tmp/ipykernel_683/3893124097.py:10: LangChainDeprecationWarning: The class `ChatOpenAI` was deprecated in LangChain 0.0.10 and will be removed in 1.0. An updated version of the class exists in the :class:`~langchain-openai package and should be used instead. To use it run `pip install -U :class:`~langchain-openai` and import as `from :class:`~langchain_openai import ChatOpenAI``.\n",
      "  llm = ChatOpenAI(model=\"gpt-4o-mini\", temperature=0)\n",
      "/tmp/ipykernel_683/3893124097.py:14: LangChainDeprecationWarning: The function `initialize_agent` was deprecated in LangChain 0.1.0 and will be removed in 1.0. Use :meth:`~Use new agent constructor methods like create_react_agent, create_json_agent, create_structured_chat_agent, etc.` instead.\n",
      "  agent = initialize_agent(\n",
      "/tmp/ipykernel_683/3893124097.py:22: LangChainDeprecationWarning: The method `Chain.run` was deprecated in langchain 0.1.0 and will be removed in 1.0. Use :meth:`~invoke` instead.\n",
      "  result = agent.run(\"\"\"\n"
     ]
    },
    {
     "name": "stdout",
     "output_type": "stream",
     "text": [
      "\n",
      "\n",
      "\u001b[1m> Entering new AgentExecutor chain...\u001b[0m\n",
      "\u001b[32;1m\u001b[1;3mI need to write a Python code that generates even numbers from 1 to 10 and then execute it to see the results. \n",
      "\n",
      "Action: python_repl_ast  \n",
      "Action Input: `even_numbers = [num for num in range(1, 11) if num % 2 == 0]; even_numbers`  \u001b[0m\n",
      "Observation: \u001b[36;1m\u001b[1;3m[2, 4, 6, 8, 10]\u001b[0m\n",
      "Thought:\u001b[32;1m\u001b[1;3mThe code successfully generated a list of even numbers from 1 to 10. The list comprehension iterates through the numbers in the specified range and includes only those that are divisible by 2 (i.e., even numbers). \n",
      "\n",
      "Final Answer: 1부터 10까지의 숫자 중 짝수는 [2, 4, 6, 8, 10]입니다.\u001b[0m\n",
      "\n",
      "\u001b[1m> Finished chain.\u001b[0m\n",
      "1부터 10까지의 숫자 중 짝수는 [2, 4, 6, 8, 10]입니다.\n"
     ]
    }
   ],
   "source": [
    "# 필요한 모듈 가져오기\n",
    "from langchain_experimental.tools import PythonAstREPLTool\n",
    "from langchain.agents import initialize_agent, AgentType\n",
    "from langchain.chat_models import ChatOpenAI\n",
    "\n",
    "# Python 코드 실행을 위한 REPL 도구 초기화\n",
    "python_repl = PythonAstREPLTool()\n",
    "\n",
    "# OpenAI의 GPT-4 모델 초기화\n",
    "llm = ChatOpenAI(model=\"gpt-4o-mini\", temperature=0)\n",
    "\n",
    "# 에이전트 초기화\n",
    "# ZERO_SHOT_REACT_DESCRIPTION 타입의 에이전트를 사용하며, verbose=True로 설정하여 상세 출력을 얻습니다.\n",
    "agent = initialize_agent(\n",
    "    [python_repl],  # 사용할 도구 리스트\n",
    "    llm,  # 사용할 언어 모델\n",
    "    agent=AgentType.ZERO_SHOT_REACT_DESCRIPTION,  # 에이전트 타입\n",
    "    verbose=True  # 상세 출력 설정\n",
    ")\n",
    "\n",
    "# 에이전트에게 작업 지시 및 실행\n",
    "result = agent.run(\"\"\"\n",
    "1부터 10까지의 숫자 중 짝수만 출력하는 Python 코드를 작성하고 실행해주세요.\n",
    "그리고 그 결과를 설명해주세요.\n",
    "\"\"\")\n",
    "\n",
    "# 결과 출력\n",
    "print(result)"
   ]
  },
  {
   "cell_type": "code",
   "execution_count": null,
   "metadata": {},
   "outputs": [],
   "source": []
  },
  {
   "cell_type": "code",
   "execution_count": null,
   "metadata": {},
   "outputs": [],
   "source": []
  },
  {
   "cell_type": "code",
   "execution_count": null,
   "metadata": {},
   "outputs": [],
   "source": []
  },
  {
   "cell_type": "code",
   "execution_count": null,
   "metadata": {},
   "outputs": [],
   "source": []
  },
  {
   "cell_type": "code",
   "execution_count": null,
   "metadata": {},
   "outputs": [],
   "source": []
  },
  {
   "cell_type": "code",
   "execution_count": null,
   "metadata": {},
   "outputs": [],
   "source": []
  },
  {
   "cell_type": "code",
   "execution_count": null,
   "metadata": {},
   "outputs": [],
   "source": []
  },
  {
   "cell_type": "code",
   "execution_count": null,
   "metadata": {},
   "outputs": [],
   "source": []
  },
  {
   "cell_type": "code",
   "execution_count": null,
   "metadata": {},
   "outputs": [],
   "source": []
  },
  {
   "cell_type": "code",
   "execution_count": null,
   "metadata": {},
   "outputs": [],
   "source": []
  },
  {
   "cell_type": "code",
   "execution_count": null,
   "metadata": {},
   "outputs": [],
   "source": []
  }
 ],
 "metadata": {
  "kernelspec": {
   "display_name": "RAG",
   "language": "python",
   "name": "python3"
  },
  "language_info": {
   "codemirror_mode": {
    "name": "ipython",
    "version": 3
   },
   "file_extension": ".py",
   "mimetype": "text/x-python",
   "name": "python",
   "nbconvert_exporter": "python",
   "pygments_lexer": "ipython3",
   "version": "3.10.12"
  }
 },
 "nbformat": 4,
 "nbformat_minor": 2
}
