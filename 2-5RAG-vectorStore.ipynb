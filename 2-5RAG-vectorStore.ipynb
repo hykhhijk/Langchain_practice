{
 "cells": [
  {
   "cell_type": "markdown",
   "metadata": {},
   "source": [
    "# Chroma"
   ]
  },
  {
   "cell_type": "code",
   "execution_count": 2,
   "metadata": {},
   "outputs": [
    {
     "data": {
      "text/plain": [
       "'한국의 역사는 수천 년에 걸쳐 이어져 온 긴 여정 속에서 다양한 문화와 전통이 형성되고 발전해 왔습니다. 고조선에서 시작해 삼국 시대의 경쟁, 그리고 통일 신라와 고려를 거쳐 조선까지, 한반도는 많은 변화를 겪었습니다.\\n\\n고조선은 기원전 2333년 단군왕검에 의해 세워졌다고 전해집니다. 이는 한국 역사상 최초의 국가로, 한민족의 시원이라 할 수 있습니다. 이후 기원전 1세기경에는 한반도와 만주 일대에서 여러 소국이 성장하며 삼한 시대로 접어듭니다.'"
      ]
     },
     "execution_count": 2,
     "metadata": {},
     "output_type": "execute_result"
    }
   ],
   "source": [
    "from langchain_community.document_loaders import TextLoader\n",
    "from langchain_text_splitters import RecursiveCharacterTextSplitter\n",
    "from langchain_openai import OpenAIEmbeddings\n",
    "from langchain_community.vectorstores import Chroma\n",
    "\n",
    "loader = TextLoader('text.txt')\n",
    "data = loader.load()\n",
    "\n",
    "text_splitter = RecursiveCharacterTextSplitter.from_tiktoken_encoder(\n",
    "    chunk_size=250,\n",
    "    chunk_overlap=50,\n",
    "    encoding_name='cl100k_base'\n",
    ")\n",
    "\n",
    "texts = text_splitter.split_text(data[0].page_content)\n",
    "texts[0]"
   ]
  },
  {
   "cell_type": "code",
   "execution_count": 3,
   "metadata": {},
   "outputs": [
    {
     "data": {
      "text/plain": [
       "<langchain_community.vectorstores.chroma.Chroma at 0x7f31aec19bd0>"
      ]
     },
     "execution_count": 3,
     "metadata": {},
     "output_type": "execute_result"
    }
   ],
   "source": [
    "embeddings_model = OpenAIEmbeddings()\n",
    "db = Chroma.from_texts(\n",
    "    texts, \n",
    "    embeddings_model,\n",
    "    collection_name = 'history',\n",
    "    persist_directory = './db/chromadb',\n",
    "    collection_metadata = {'hnsw:space': 'cosine'}, # l2 is the default\n",
    ")\n",
    "\n",
    "db"
   ]
  },
  {
   "cell_type": "markdown",
   "metadata": {},
   "source": [
    "거리 지정 방식을 생성시에 딕셔너리 인자로 넣어줌"
   ]
  },
  {
   "cell_type": "code",
   "execution_count": 4,
   "metadata": {},
   "outputs": [
    {
     "name": "stdout",
     "output_type": "stream",
     "text": [
      "조선은 1392년 이성계에 의해 건국되어, 1910년까지 이어졌습니다. 조선 초기에는 세종대왕이 한글을 창제하여 백성들의 문해율을 높이는 등 문화적, 과학적 성취가 이루어졌습니다. 그러나 조선 후기에는 내부적으로 실학의 발전과 함께 사회적 변화가 모색되었으나, 외부로부터의 압력은 점차 커져만 갔습니다.\n"
     ]
    }
   ],
   "source": [
    "query = '누가 한글을 창제했나요?'\n",
    "docs = db.similarity_search(query)\n",
    "print(docs[0].page_content)"
   ]
  },
  {
   "cell_type": "markdown",
   "metadata": {},
   "source": [
    "## MMR"
   ]
  },
  {
   "cell_type": "code",
   "execution_count": 24,
   "metadata": {},
   "outputs": [
    {
     "data": {
      "text/plain": [
       "37"
      ]
     },
     "execution_count": 24,
     "metadata": {},
     "output_type": "execute_result"
    }
   ],
   "source": [
    "# Load data -> Text split\n",
    "\n",
    "from langchain_community.document_loaders import PyMuPDFLoader, PDFPlumberLoader\n",
    "from langchain_text_splitters import RecursiveCharacterTextSplitter\n",
    "from langchain_openai import OpenAIEmbeddings\n",
    "from langchain_community.vectorstores import Chroma\n",
    "\n",
    "loader = PDFPlumberLoader('/home/yhkim/code/Langchain_practice/000660_SK_2023.pdf')\n",
    "data = loader.load()\n",
    "text_splitter = RecursiveCharacterTextSplitter.from_tiktoken_encoder(\n",
    "    chunk_size=1000,\n",
    "    chunk_overlap=200,\n",
    "    encoding_name='cl100k_base',\n",
    ")\n",
    "\n",
    "documents = text_splitter.split_documents(data)\n",
    "len(documents)"
   ]
  },
  {
   "cell_type": "code",
   "execution_count": 26,
   "metadata": {},
   "outputs": [
    {
     "data": {
      "text/plain": [
       "<langchain_community.vectorstores.chroma.Chroma at 0x7f31523deef0>"
      ]
     },
     "execution_count": 26,
     "metadata": {},
     "output_type": "execute_result"
    }
   ],
   "source": [
    "# Embedding -> Upload to Vectorstore\n",
    "from langchain_community.vectorstores import Chroma\n",
    "from langchain_openai import OpenAIEmbeddings\n",
    "\n",
    "embeddings_model = OpenAIEmbeddings()\n",
    "db2 = Chroma.from_documents(\n",
    "    documents, \n",
    "    embeddings_model,\n",
    "    collection_name = 'esg',\n",
    "    persist_directory = './db/chromadb',\n",
    "    collection_metadata = {'hnsw:space': 'cosine'}, # l2 is the default\n",
    ")\n",
    "\n",
    "db2"
   ]
  },
  {
   "cell_type": "code",
   "execution_count": 27,
   "metadata": {},
   "outputs": [
    {
     "name": "stdout",
     "output_type": "stream",
     "text": [
      "4\n",
      "· 실 사 대상 기업 산업 및 규모에 따른 · 전 체 포트폴리오를 16개 업종, 기업 규모에 따라 3개 그룹으로 구분 · 탄 소 규제/가격 변동에 따른 재무영향 점검 · 인 수 이후 ESG Value-up 기반 Exit 전략 도출\n",
      "체크리스트 생성 ESG 중점관리 항목 도출 [수익성] 매출액/영업이익 대비 탄소 비용 추이 고려 · 중 대 ESG 리스크/기회 현황 및\n",
      "· 점 검항목은 유형에 따라 · E SG 외부평가 및 주가 상관관계 상위 영역 분석에 따라 [경제성] 투자 대비 감축 수단 효과 검토 ESG 관리·공시 수준 확인\n",
      "ESG 리스크와 관리체계로 구분 산업 핵심관리 영역 도출 [시장성] 경쟁사 대비 속도/수준 감안 대응전략 점검\n",
      "· 서 면진단 및 현장실사 실시 정기 평가 실시 물리적 리스크\n",
      "셀사이드(Sell-side) 점검사항 관리\n",
      "시 사점 도출 · 연 2회 ESG 실적점검 실시, · 자 산 소재 지역의 취약한 이상기후 요인 식별\n",
      "· V aluation 반영을 통한 중요 ESG 리스크/기회 관련 이슈 식별 · 고 위험 기업 대상 관리방안 마련 권고 중대 ESG 이슈 존재 여부 검토\n",
      "인수가액 조정 · 매 각 대상 시장 내 ESG 규제 준수 여부 확인\n",
      "· P MI(Post-Merger Integration, · E SG 우수 영역에 대한 정보공개 및\n",
      "인수 합병 후 통합 과정) ESG 기반 주주 소통 기회 확대 방안 제시\n",
      "개선 과제 제시 주 주 소통 대상 안건 · 국 내외 책임투자 기준 부합 여부 확인\n",
      "· 해 당 산업 ESG 중점관리 항목과 연관된 리스크가 식별되었거나, · 우 수 관리 영역 정보공개 및\n",
      "연중 중대한 ESG Controversy Issue(예상하지 못한 우려) 발생 시 이해관계자 커뮤니케이션\n",
      "투자회사 유형별 관여 방식\n",
      "· 이 사회 기타비상무이사를 통한 소통\n",
      "01 02 03\n",
      "· E SG 점검 리포트 또는 주주서한 발송\n",
      "Pre-Acquisition (인수 전) Value-up Period (보유 기간) Exit (투자 회수)\n"
     ]
    }
   ],
   "source": [
    "query = 'ESG 전략을 알려줘'\n",
    "docs = db2.similarity_search(query)\n",
    "print(len(docs))\n",
    "print(docs[0].page_content)"
   ]
  },
  {
   "cell_type": "code",
   "execution_count": 28,
   "metadata": {},
   "outputs": [
    {
     "name": "stdout",
     "output_type": "stream",
     "text": [
      "12 ESG Special Report 2023 Where we are heading | How we get there | What we are preparing 13\n",
      "OUR PORTFOLIO SK주식회사는 ESG기반의 4대 핵심사업을 중심으로\n",
      "글로벌 투자 현황 (조원) 재무 성과 (2022년 별도 기준)\n",
      "장기적 관점의 투자 전략을 실행하고 있습니다.\n",
      "AND 2022년에는 앵커 자산과 신규 투자를 연계한 투자\n",
      "EU 동남아 등\n",
      "성과로 매출액과 영업이익 성장을 이루어 냈습니다. 0.6(7%) 0.1(2%) YoY +24%\n",
      "PERFORMANCES 또한 투명한 ESG 정보공개와 이해관계자 소통으로\n",
      "대외 유수 평가기관으로부터 최고 수준의 3.4\n",
      "중국 조원\n",
      "북미\n",
      "평가 등급을 획득하며 ESG 역량을 인정받았습니다. 0.8(9%)\n",
      "3.5(41%)\n",
      "8.6 조원 *\n",
      "한국\n",
      "YoY +33%\n",
      "3.5(41%)\n",
      "ESG 기반 4대 핵심 영역 포트폴리오\n",
      "1.1\n",
      "조원\n",
      "북미 | Plug Power, TerraPower\n",
      "첨단소재 그린\n",
      "한국 | SK스페셜티, SK실트론, SK바이오팜, SK시그넷\n",
      "고성장 ‵반도체/전력반도체/ GREEN 산업의 성장 거점 선점\n",
      "중국 | ESR, ChinData\n",
      "배터리′ 핵심 소재 선제적 투자로 및 넷제로 실현을 위한 탈탄소\n",
      "EU | Yposkesi\n",
      "기존 사업과의 시너지 창출 및 기술 기업 자산 확보\n",
      "동남아 등\n",
      "고성장 소재 포트폴리오 확대\n",
      "가속화 투자 자산 * 2 022년까지 누적 투자 금액(성장 영역 Inc. 직접 투자 자산)으로 매출 영업이익\n",
      "TerraPower, Plug Power, 합병 비용 포함 및 Divest 금액 제외\n",
      "●\n",
      "Monolith, Atom Power,\n",
      "투자 자산\n",
      "Lunar Energy, Fulcrum,\n",
      "SK스페셜티, SK실트론,\n",
      "●\n",
      "Wason, SES AI, 3.9 1.9 Joyvio, Perfect Day, ESG 성과 (2023년 상반기 기준)\n",
      "조원 조원 Nature’s Fynd,\n",
      "SK시그넷, SK파워텍\n",
      "Wildtype\n",
      "8.6 조원*\n",
      "지속가능경영보고서 발간, ESG Data Platform을 통한 포트폴리오\n",
      "7 * 적시성·정확성 높은 ESG 통합관리체계\n",
      "바이오 디지털 개 멤버사\n",
      "정보공개 수립 및 시행\n",
      "혁신 신약 개발과 디지털 혁신을 선도하는 성과 연결 공시\n",
      "더불어 CDMO를 아우르는 새로운 주력 사업 영역\n",
      "2.0 0.8\n"
     ]
    }
   ],
   "source": [
    "print(docs[-1].page_content)"
   ]
  },
  {
   "cell_type": "code",
   "execution_count": 29,
   "metadata": {},
   "outputs": [
    {
     "name": "stdout",
     "output_type": "stream",
     "text": [
      "4\n",
      "· 실 사 대상 기업 산업 및 규모에 따른 · 전 체 포트폴리오를 16개 업종, 기업 규모에 따라 3개 그룹으로 구분 · 탄 소 규제/가격 변동에 따른 재무영향 점검 · 인 수 이후 ESG Value-up 기반 Exit 전략 도출\n",
      "체크리스트 생성 ESG 중점관리 항목 도출 [수익성] 매출액/영업이익 대비 탄소 비용 추이 고려 · 중 대 ESG 리스크/기회 현황 및\n",
      "· 점 검항목은 유형에 따라 · E SG 외부평가 및 주가 상관관계 상위 영역 분석에 따라 [경제성] 투자 대비 감축 수단 효과 검토 ESG 관리·공시 수준 확인\n",
      "ESG 리스크와 관리체계로 구분 산업 핵심관리 영역 도출 [시장성] 경쟁사 대비 속도/수준 감안 대응전략 점검\n",
      "· 서 면진단 및 현장실사 실시 정기 평가 실시 물리적 리스크\n",
      "셀사이드(Sell-side) 점검사항 관리\n",
      "시 사점 도출 · 연 2회 ESG 실적점검 실시, · 자 산 소재 지역의 취약한 이상기후 요인 식별\n",
      "· V aluation 반영을 통한 중요 ESG 리스크/기회 관련 이슈 식별 · 고 위험 기업 대상 관리방안 마련 권고 중대 ESG 이슈 존재 여부 검토\n",
      "인수가액 조정 · 매 각 대상 시장 내 ESG 규제 준수 여부 확인\n",
      "· P MI(Post-Merger Integration, · E SG 우수 영역에 대한 정보공개 및\n",
      "인수 합병 후 통합 과정) ESG 기반 주주 소통 기회 확대 방안 제시\n",
      "개선 과제 제시 주 주 소통 대상 안건 · 국 내외 책임투자 기준 부합 여부 확인\n",
      "· 해 당 산업 ESG 중점관리 항목과 연관된 리스크가 식별되었거나, · 우 수 관리 영역 정보공개 및\n",
      "연중 중대한 ESG Controversy Issue(예상하지 못한 우려) 발생 시 이해관계자 커뮤니케이션\n",
      "투자회사 유형별 관여 방식\n",
      "· 이 사회 기타비상무이사를 통한 소통\n",
      "01 02 03\n",
      "· E SG 점검 리포트 또는 주주서한 발송\n",
      "Pre-Acquisition (인수 전) Value-up Period (보유 기간) Exit (투자 회수)\n"
     ]
    }
   ],
   "source": [
    "mmr_docs = db2.max_marginal_relevance_search(query, k=4, fetch_k=10)\n",
    "print(len(mmr_docs))\n",
    "print(mmr_docs[0].page_content)"
   ]
  },
  {
   "cell_type": "code",
   "execution_count": 30,
   "metadata": {},
   "outputs": [
    {
     "name": "stdout",
     "output_type": "stream",
     "text": [
      "21\n",
      "20\n",
      "ESG Special Report 2023\n",
      "투\n",
      "자\n",
      " \n",
      "검\n",
      "토\n",
      " \n",
      "단\n",
      "계\n",
      "Pre-Acquisition (인수 전)\n",
      "01\n",
      "포\n",
      "트\n",
      "폴\n",
      "리\n",
      "오\n",
      " \n",
      "E\n",
      "S\n",
      "G\n",
      " \n",
      "관\n",
      "리\n",
      " \n",
      "체\n",
      "계\n",
      "장\n",
      "기\n",
      "적\n",
      " \n",
      "관\n",
      "점\n",
      "에\n",
      "서\n",
      " \n",
      "기\n",
      "업\n",
      "가\n",
      "치\n",
      " \n",
      "제\n",
      "고\n",
      "를\n",
      " \n",
      "실\n",
      "현\n",
      "하\n",
      "기\n",
      " \n",
      "위\n",
      "해\n",
      " \n",
      "핵\n",
      "심\n",
      "자\n",
      "산\n",
      "인\n",
      " \n",
      "투\n",
      "자\n",
      " \n",
      "포\n",
      "트\n",
      "폴\n",
      "리\n",
      "오\n",
      "의\n",
      " \n",
      "경\n",
      "제\n",
      "적\n",
      " \n",
      "가\n",
      "치\n",
      "와\n",
      " \n",
      "함\n",
      "께\n",
      " \n",
      "E\n",
      "S\n",
      "G\n",
      " \n",
      "가\n",
      "치\n",
      "를\n",
      " \n",
      "통\n",
      "합\n",
      "적\n",
      "으\n",
      "로\n",
      " \n",
      "관\n",
      "리\n",
      "하\n",
      "기\n",
      " \n",
      "위\n",
      "한\n",
      " \n",
      "체\n",
      "계\n",
      "를\n",
      " \n",
      "구\n",
      "축\n",
      "하\n",
      "고\n",
      " \n",
      "있\n",
      "습\n",
      "니\n",
      "다\n",
      ".\n",
      "투\n",
      "자\n",
      " \n",
      "검\n",
      "토\n",
      " \n",
      "시\n",
      "점\n",
      "부\n",
      "터\n",
      " \n",
      "인\n",
      "수\n",
      " \n",
      "후\n",
      ",\n",
      " \n",
      "회\n",
      "수\n",
      " \n",
      "시\n",
      "점\n",
      "까\n",
      "지\n",
      " \n",
      "투\n",
      "자\n",
      "L\n",
      "i\n",
      "f\n",
      "e\n",
      " \n",
      "C\n",
      "y\n",
      "c\n",
      "l\n",
      "e\n",
      "에\n",
      " \n",
      "걸\n",
      "쳐\n",
      " \n",
      "적\n",
      "용\n",
      "되\n",
      "는\n",
      " \n",
      "체\n",
      "계\n",
      "적\n",
      "인\n",
      " \n",
      "E\n",
      "S\n",
      "G\n",
      " \n",
      "관\n",
      "리\n",
      "를\n",
      " \n",
      "기\n",
      "반\n",
      "으\n",
      "로\n",
      " \n",
      "내\n",
      "부\n",
      "적\n",
      "으\n",
      "로\n",
      "는\n",
      " \n",
      "E\n",
      "S\n",
      "G\n",
      "를\n",
      " \n",
      "고\n",
      "려\n",
      "한\n",
      " \n",
      "합\n",
      "리\n",
      "적\n",
      "인\n",
      " \n",
      "투\n",
      "자\n",
      "의\n",
      "사\n",
      " \n",
      "결\n",
      "정\n",
      "을\n",
      " \n",
      "이\n",
      "행\n",
      "하\n",
      "고\n",
      ",\n",
      " \n",
      "시\n",
      "장\n",
      "에\n",
      "서\n",
      "는\n",
      " \n",
      "포\n",
      "트\n",
      "폴\n",
      "리\n",
      "오\n",
      "의\n",
      " \n",
      "기\n",
      "업\n",
      "가\n",
      "치\n",
      "가\n",
      " \n",
      "시\n",
      "장\n",
      "에\n",
      "서\n",
      " \n",
      "제\n",
      "대\n",
      "로\n",
      " \n",
      "평\n",
      "가\n",
      "받\n",
      "으\n",
      "며\n",
      " \n",
      "나\n",
      "아\n",
      "가\n",
      " \n",
      "사\n",
      "회\n",
      "·\n",
      "환\n",
      "경\n",
      "에\n",
      " \n",
      "미\n",
      "치\n",
      "는\n",
      " \n",
      "파\n",
      "급\n",
      "력\n",
      "을\n",
      " \n",
      "높\n",
      "일\n",
      " \n",
      "수\n",
      " \n",
      "있\n",
      "도\n",
      "록\n",
      " \n",
      "노\n",
      "력\n",
      "하\n",
      "겠\n",
      "습\n",
      "니\n",
      "다\n",
      ".\n",
      "포\n",
      "트\n",
      "폴\n",
      "리\n",
      "오\n",
      " \n",
      "E\n",
      "S\n",
      "G\n",
      " \n",
      "관\n",
      "리\n",
      " \n",
      "원\n",
      "칙\n",
      "S\n",
      "K\n",
      "주\n",
      "식\n",
      "회\n",
      "사\n",
      "투\n",
      "자\n",
      "회\n",
      "사\n",
      "기\n",
      "업\n",
      "가\n",
      "치\n",
      " \n",
      "관\n",
      "점\n",
      "의\n",
      "E\n",
      "S\n",
      "G\n",
      " \n",
      "중\n",
      "점\n",
      "관\n",
      "리\n",
      " \n",
      "항\n",
      "목\n",
      " \n",
      "도\n",
      "출\n",
      "자\n",
      "사\n",
      " \n",
      "E\n",
      "S\n",
      "G\n",
      " \n",
      "관\n",
      "리\n",
      "전\n",
      "략\n",
      "E\n",
      "S\n",
      "G\n",
      " \n",
      "성\n",
      "과\n",
      " \n",
      "데\n",
      "이\n",
      "터\n",
      " \n",
      "관\n",
      "리\n",
      "기\n",
      "업\n",
      "가\n",
      "치\n",
      "와\n",
      "E\n",
      "S\n",
      "G\n",
      " \n",
      "성\n",
      "과\n",
      " \n",
      "연\n",
      "계\n",
      "성\n",
      " \n",
      "분\n",
      "석\n",
      "포\n",
      "트\n",
      "폴\n",
      "리\n",
      "오\n",
      " \n",
      "E\n",
      "S\n",
      "G\n",
      " \n",
      "관\n",
      "리\n",
      "전\n",
      "략\n",
      " \n",
      "U\n",
      "p\n",
      "g\n",
      "r\n",
      "a\n",
      "d\n",
      "e\n",
      "성\n",
      "장\n",
      "단\n",
      "계\n",
      "산\n",
      "업\n",
      "특\n",
      "성\n",
      "E\n",
      "S\n",
      "G\n",
      " \n",
      "D\n",
      "i\n",
      "v\n",
      "e\n",
      "s\n",
      "t\n",
      "m\n",
      "e\n",
      "n\n",
      "t\n",
      " \n",
      "전\n",
      "략\n",
      " \n",
      "검\n",
      "토\n",
      " \n",
      " \n",
      " \n",
      " \n",
      " \n",
      " \n",
      " \n",
      "E\n",
      "S\n",
      "G\n"
     ]
    }
   ],
   "source": [
    "print(mmr_docs[-1].page_content)"
   ]
  },
  {
   "cell_type": "markdown",
   "metadata": {},
   "source": [
    "## using metadata"
   ]
  },
  {
   "cell_type": "code",
   "execution_count": 31,
   "metadata": {},
   "outputs": [],
   "source": [
    "from langchain_core.documents import Document\n",
    "\n",
    "documents = [\n",
    "    Document(\n",
    "        page_content=\"LangChain은 대규모 언어 모델(LLM)을 사용하는 애플리케이션을 개발하기 위한 프레임워크입니다.\",\n",
    "        metadata={\n",
    "            \"title\": \"LangChain 소개\",\n",
    "            \"author\": \"AI 개발자\",\n",
    "            \"url\": \"http://example.com/langchain-intro\"\n",
    "        }\n",
    "    ),\n",
    "    Document(\n",
    "        page_content=\"벡터 데이터베이스는 고차원 벡터를 효율적으로 저장하고 검색하는 데 특화된 데이터베이스 시스템입니다.\",\n",
    "        metadata={\n",
    "            \"title\": \"벡터 데이터베이스 개요\",\n",
    "            \"author\": \"데이터 과학자\",\n",
    "            \"url\": \"http://example.com/vector-db-overview\"\n",
    "        }\n",
    "    )\n",
    "    # 추가 문서들...\n",
    "]"
   ]
  },
  {
   "cell_type": "code",
   "execution_count": 32,
   "metadata": {},
   "outputs": [],
   "source": [
    "from langchain_community.vectorstores import Chroma\n",
    "from langchain_openai import OpenAIEmbeddings\n",
    "\n",
    "# OpenAI 임베딩 모델 초기화\n",
    "embedding_model = OpenAIEmbeddings()\n",
    "\n",
    "# Chroma 벡터 스토어에 문서와 메타데이터 저장\n",
    "vectorstore = Chroma.from_documents(\n",
    "    documents=documents,\n",
    "    embedding=embedding_model,\n",
    "    persist_directory=\"./chroma_db\"  # 벡터 스토어를 디스크에 저장\n",
    ")"
   ]
  },
  {
   "cell_type": "code",
   "execution_count": 33,
   "metadata": {},
   "outputs": [
    {
     "name": "stdout",
     "output_type": "stream",
     "text": [
      "내용: LangChain은 대규모 언어 모델(LLM)을 사용하는 애플리케이션을 개발하기 위한 프레임워크입니다.\n",
      "제목: LangChain 소개\n",
      "저자: AI 개발자\n",
      "URL: http://example.com/langchain-intro\n",
      "---\n",
      "내용: 벡터 데이터베이스는 고차원 벡터를 효율적으로 저장하고 검색하는 데 특화된 데이터베이스 시스템입니다.\n",
      "제목: 벡터 데이터베이스 개요\n",
      "저자: 데이터 과학자\n",
      "URL: http://example.com/vector-db-overview\n",
      "---\n"
     ]
    }
   ],
   "source": [
    "query = \"LangChain이란 무엇인가요?\"\n",
    "results = vectorstore.similarity_search(query, k=2)\n",
    "\n",
    "for doc in results:\n",
    "    print(f\"내용: {doc.page_content}\")\n",
    "    print(f\"제목: {doc.metadata['title']}\")\n",
    "    print(f\"저자: {doc.metadata['author']}\")\n",
    "    print(f\"URL: {doc.metadata['url']}\")\n",
    "    print(\"---\")"
   ]
  },
  {
   "cell_type": "code",
   "execution_count": 34,
   "metadata": {},
   "outputs": [
    {
     "name": "stderr",
     "output_type": "stream",
     "text": [
      "/tmp/ipykernel_2798/2040709931.py:6: LangChainDeprecationWarning: The class `HuggingFaceEmbeddings` was deprecated in LangChain 0.2.2 and will be removed in 1.0. An updated version of the class exists in the :class:`~langchain-huggingface package and should be used instead. To use it run `pip install -U :class:`~langchain-huggingface` and import as `from :class:`~langchain_huggingface import HuggingFaceEmbeddings``.\n",
      "  embeddings_model = HuggingFaceEmbeddings(\n",
      "/home/yhkim/env/RAG/lib/python3.10/site-packages/sentence_transformers/cross_encoder/CrossEncoder.py:13: TqdmExperimentalWarning: Using `tqdm.autonotebook.tqdm` in notebook mode. Use `tqdm.tqdm` instead to force console mode (e.g. in jupyter console)\n",
      "  from tqdm.autonotebook import tqdm, trange\n"
     ]
    },
    {
     "data": {
      "application/vnd.jupyter.widget-view+json": {
       "model_id": "896c0019fe804d4882e5eb825c1ff738",
       "version_major": 2,
       "version_minor": 0
      },
      "text/plain": [
       "modules.json:   0%|          | 0.00/229 [00:00<?, ?B/s]"
      ]
     },
     "metadata": {},
     "output_type": "display_data"
    },
    {
     "data": {
      "application/vnd.jupyter.widget-view+json": {
       "model_id": "8ad5917b261944bfb8f16bb1de39c3ad",
       "version_major": 2,
       "version_minor": 0
      },
      "text/plain": [
       "config_sentence_transformers.json:   0%|          | 0.00/123 [00:00<?, ?B/s]"
      ]
     },
     "metadata": {},
     "output_type": "display_data"
    },
    {
     "data": {
      "application/vnd.jupyter.widget-view+json": {
       "model_id": "5dcb0893051546909df077b6079c9d56",
       "version_major": 2,
       "version_minor": 0
      },
      "text/plain": [
       "README.md:   0%|          | 0.00/4.46k [00:00<?, ?B/s]"
      ]
     },
     "metadata": {},
     "output_type": "display_data"
    },
    {
     "data": {
      "application/vnd.jupyter.widget-view+json": {
       "model_id": "a28e0f8bdffc48d3b75afc1b6b7c262c",
       "version_major": 2,
       "version_minor": 0
      },
      "text/plain": [
       "sentence_bert_config.json:   0%|          | 0.00/53.0 [00:00<?, ?B/s]"
      ]
     },
     "metadata": {},
     "output_type": "display_data"
    },
    {
     "data": {
      "application/vnd.jupyter.widget-view+json": {
       "model_id": "98cc3884ca644f7e8fd829e4c1faf509",
       "version_major": 2,
       "version_minor": 0
      },
      "text/plain": [
       "config.json:   0%|          | 0.00/620 [00:00<?, ?B/s]"
      ]
     },
     "metadata": {},
     "output_type": "display_data"
    },
    {
     "data": {
      "application/vnd.jupyter.widget-view+json": {
       "model_id": "e6640370240b42fcb99551cafc086240",
       "version_major": 2,
       "version_minor": 0
      },
      "text/plain": [
       "pytorch_model.bin:   0%|          | 0.00/443M [00:00<?, ?B/s]"
      ]
     },
     "metadata": {},
     "output_type": "display_data"
    },
    {
     "data": {
      "application/vnd.jupyter.widget-view+json": {
       "model_id": "2364cdcf8e374fcba47ab0ede3845cb5",
       "version_major": 2,
       "version_minor": 0
      },
      "text/plain": [
       "tokenizer_config.json:   0%|          | 0.00/538 [00:00<?, ?B/s]"
      ]
     },
     "metadata": {},
     "output_type": "display_data"
    },
    {
     "data": {
      "application/vnd.jupyter.widget-view+json": {
       "model_id": "b9adcac23f2e43d2a1b90557a2881013",
       "version_major": 2,
       "version_minor": 0
      },
      "text/plain": [
       "vocab.txt:   0%|          | 0.00/248k [00:00<?, ?B/s]"
      ]
     },
     "metadata": {},
     "output_type": "display_data"
    },
    {
     "data": {
      "application/vnd.jupyter.widget-view+json": {
       "model_id": "d905cce849eb412f9db31263419196be",
       "version_major": 2,
       "version_minor": 0
      },
      "text/plain": [
       "tokenizer.json:   0%|          | 0.00/495k [00:00<?, ?B/s]"
      ]
     },
     "metadata": {},
     "output_type": "display_data"
    },
    {
     "data": {
      "application/vnd.jupyter.widget-view+json": {
       "model_id": "073cbc808782423e91434f93c4d90a15",
       "version_major": 2,
       "version_minor": 0
      },
      "text/plain": [
       "special_tokens_map.json:   0%|          | 0.00/112 [00:00<?, ?B/s]"
      ]
     },
     "metadata": {},
     "output_type": "display_data"
    },
    {
     "data": {
      "application/vnd.jupyter.widget-view+json": {
       "model_id": "10ee731d48ec45e58612155517838268",
       "version_major": 2,
       "version_minor": 0
      },
      "text/plain": [
       "1_Pooling/config.json:   0%|          | 0.00/190 [00:00<?, ?B/s]"
      ]
     },
     "metadata": {},
     "output_type": "display_data"
    },
    {
     "data": {
      "text/plain": [
       "<langchain_community.vectorstores.faiss.FAISS at 0x7f2ff3e6df60>"
      ]
     },
     "execution_count": 34,
     "metadata": {},
     "output_type": "execute_result"
    },
    {
     "data": {
      "application/vnd.jupyter.widget-view+json": {
       "model_id": "4c435495662b4e478a786719105f1b65",
       "version_major": 2,
       "version_minor": 0
      },
      "text/plain": [
       "model.safetensors:   0%|          | 0.00/442M [00:00<?, ?B/s]"
      ]
     },
     "metadata": {},
     "output_type": "display_data"
    }
   ],
   "source": [
    "# 벡터스토어 db 인스턴스를 생성\n",
    "from langchain_community.vectorstores import FAISS\n",
    "from langchain_community.vectorstores.utils import DistanceStrategy\n",
    "from langchain_community.embeddings import HuggingFaceEmbeddings\n",
    "\n",
    "embeddings_model = HuggingFaceEmbeddings(\n",
    "    model_name='jhgan/ko-sbert-nli',\n",
    "    model_kwargs={'device':'cpu'},\n",
    "    encode_kwargs={'normalize_embeddings':True},\n",
    ")\n",
    "\n",
    "\n",
    "vectorstore = FAISS.from_documents(documents,\n",
    "                                   embedding = embeddings_model,\n",
    "                                   distance_strategy = DistanceStrategy.COSINE\n",
    "                                  )\n",
    "vectorstore"
   ]
  },
  {
   "cell_type": "markdown",
   "metadata": {},
   "source": [
    "FAISS는 거리함수 유사도 검색 설정법만 체크하자"
   ]
  },
  {
   "cell_type": "markdown",
   "metadata": {},
   "source": []
  }
 ],
 "metadata": {
  "kernelspec": {
   "display_name": "RAG",
   "language": "python",
   "name": "python3"
  },
  "language_info": {
   "codemirror_mode": {
    "name": "ipython",
    "version": 3
   },
   "file_extension": ".py",
   "mimetype": "text/x-python",
   "name": "python",
   "nbconvert_exporter": "python",
   "pygments_lexer": "ipython3",
   "version": "3.10.12"
  }
 },
 "nbformat": 4,
 "nbformat_minor": 2
}
