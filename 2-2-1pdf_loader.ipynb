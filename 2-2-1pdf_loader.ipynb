{
 "cells": [
  {
   "cell_type": "markdown",
   "metadata": {},
   "source": [
    "# Base"
   ]
  },
  {
   "cell_type": "code",
   "execution_count": 1,
   "metadata": {},
   "outputs": [
    {
     "data": {
      "text/plain": [
       "21"
      ]
     },
     "execution_count": 1,
     "metadata": {},
     "output_type": "execute_result"
    }
   ],
   "source": [
    "from langchain_community.document_loaders import PyPDFLoader\n",
    "\n",
    "pdf_filepath = '000660_SK_2023.pdf'\n",
    "loader = PyPDFLoader(pdf_filepath)\n",
    "pages = loader.load()\n",
    "\n",
    "len(pages)"
   ]
  },
  {
   "cell_type": "code",
   "execution_count": 2,
   "metadata": {},
   "outputs": [
    {
     "data": {
      "text/plain": [
       "Document(metadata={'source': '000660_SK_2023.pdf', 'page': 10}, page_content='2120\\nESG Special Report 2023\\n투자 검토 단계\\nPre-Acquisition (인수 전)\\n01\\n포트폴리오 ESG 관리 체계\\n장기적 관점에서 기업가치 제고를 실현하기 위해 핵심자산인 \\n투자 포트폴리오의 경제적 가치와 함께 ESG 가치를 \\n통합적으로 관리하기 위한 체계를 구축하고 있습니다.\\n투자 검토 시점부터 인수 후, 회수 시점까지 투자\\nLife Cycle에 걸쳐 적용되는 체계적인 ESG 관리를 \\n기반으로 내부적으로는 ESG를 고려한 합리적인 투자의사 \\n결정을 이행하고, 시장에서는 포트폴리오의 기업가치가 \\n시장에서 제대로 평가받으며 나아가 사회·환경에 미치는 \\n파급력을 높일 수 있도록 노력하겠습니다.\\n포트폴리오 ESG 관리 원칙\\nSK주식회사 투자회사\\n기업가치 관점의\\nESG 중점관리 \\n항목 도출\\n자사 ESG \\n관리전략\\nESG 성과 \\n데이터 관리\\n기업가치와\\nESG 성과 \\n연계성 분석\\n포트폴리오 \\nESG 관리전략 \\nUpgrade\\n성장단계\\n산업특성\\nESG Divestment 전략 검토\\n       ESG Exit 리포트 발간\\n ·    인수 이후 ESG Value-up 기반 Exit 전략 도출\\n ·    중대 ESG 리스크/기회 현황 및   \\nESG 관리·공시 수준 확인\\n셀사이드(Sell-side) 점검사항 관리\\n       중대 ESG 이슈 존재 여부 검토\\n ·    매각 대상 시장 내 ESG 규제 준수 여부 확인\\n ·    ESG 우수 영역에 대한 정보공개 및    \\n기회 확대 방안 제시\\n ·    국내외 책임투자 기준 부합 여부 확인\\n ·    우수 관리 영역 정보공개 및   \\n이해관계자 커뮤니케이션\\n매각/투자 회수 단계\\n03\\nExit (투자 회수)\\n정기 ESG 점검\\n       투자회사 분류 \\n ·   전체 포트폴리오를 16개 업종, 기업 규모에 따라 3개 그룹으로 구분\\n       ESG 중점관리 항목 도출 \\n  ·   ESG 외부평가 및 주가 상관관계 상위 영역 분석에 따라   \\n산업 핵심관리 영역 도출\\n       정기 평가 실시 \\n   ·   연 2회 ESG 실적점검 실시,     \\n중요 ESG 리스크/기회 관련 이슈 식별\\n보유 단계\\n02\\nValue-up Period (보유 기간)\\nESG 기반 주주 소통\\n        주주 소통 대상 안건\\n  ·   해당 산업 ESG 중점관리 항목과 연관된 리스크가 식별되었거나,  \\n연중 중대한 ESG Controversy Issue(예상하지 못한 우려) 발생 시\\n       투자회사 유형별 관여 방식\\n ·    이사회 기타비상무이사를 통한 소통\\n ·    ESG 점검 리포트 또는 주주서한 발송\\n기후 리스크 관리\\n        전환 리스크\\n ·    탄소 규제/가격 변동에 따른 재무영향 점검  \\n[수익성] 매출액/영업이익 대비 탄소 비용 추이 고려  \\n[경제성] 투자 대비 감축 수단 효과 검토  \\n[시장성] 경쟁사 대비 속도/수준 감안 대응전략 점검\\n       물리적 리스크\\n ·    자산 소재 지역의 취약한 이상기후 요인 식별\\n ·    고위험 기업 대상 관리방안 마련 권고\\nESG 실사\\n       ESG 실사 수행\\n ·   실사 대상 기업 산업 및 규모에 따른 \\n체크리스트 생성\\n ·   점검항목은 유형에 따라   \\nESG 리스크와 관리체계로 구분\\n ·   서면진단 및 현장실사 실시\\n        시사점 도출\\n ·    Valuation 반영을 통한   \\n인수가액 조정\\n ·   PMI(Post-Merger Integration, \\n인수 합병 후 통합 과정)   \\n개선 과제 제시\\nESG는 의사결정과 행동에 반드시 \\n반영되어야 하는 필수 요소이자 \\n기회입니다. SK는 기업가치의 건강한 \\n성장과 이해관계자의 지속가능한 행복을 \\n위해 경영의사결정의 DNA로서 \\nESG(환경/사회/지배구조)를 \\n내재화하고 있습니다.\\nESG 관리의 단계적 고도화\\n포트폴리오 ESG 관리 역량 축적, \\n글로벌 Top-tier 수준 ESG 관리체계 확보\\n성장단계별 관리 차별화\\n투자기업 성숙도(기업의 Life Cycle)에\\n따라 적합한 ESG Value-up 실현\\n산업별 중점관리항목 체계화\\n산업별 기업가치에 큰 영향을 주는 \\nESG 이슈 집중 관리\\nWhere we are heading    |     How we get there    |     What we are preparing')"
      ]
     },
     "execution_count": 2,
     "metadata": {},
     "output_type": "execute_result"
    }
   ],
   "source": [
    "pages[10]"
   ]
  },
  {
   "cell_type": "markdown",
   "metadata": {},
   "source": [
    "# Unstructured PDFLoader"
   ]
  },
  {
   "cell_type": "code",
   "execution_count": 3,
   "metadata": {},
   "outputs": [],
   "source": [
    "# from langchain_community.document_loaders import UnstructuredPDFLoader\n",
    "\n",
    "# pdf_filepath = '000660_SK_2023.pdf'\n",
    "\n",
    "# # 전체 텍스트를 단일 문서 객체로 변환\n",
    "# loader = UnstructuredPDFLoader(pdf_filepath)\n",
    "# pages = loader.load()\n",
    "\n",
    "# len(pages)"
   ]
  },
  {
   "cell_type": "markdown",
   "metadata": {},
   "source": [
    "아오 또 라이브러리 버전이 어쩌구 저쩌구~  \n",
    "이 파트 일단 건너 뜀"
   ]
  },
  {
   "cell_type": "code",
   "execution_count": null,
   "metadata": {},
   "outputs": [
    {
     "data": {
      "text/plain": [
       "21"
      ]
     },
     "execution_count": 4,
     "metadata": {},
     "output_type": "execute_result"
    }
   ],
   "source": [
    "from langchain_community.document_loaders import PyMuPDFLoader\n",
    "\n",
    "pdf_filepath = '000660_SK_2023.pdf'\n",
    "\n",
    "loader = PyMuPDFLoader(pdf_filepath)\n",
    "pages = loader.load()\n",
    "\n",
    "len(pages)"
   ]
  },
  {
   "cell_type": "code",
   "execution_count": 5,
   "metadata": {},
   "outputs": [
    {
     "data": {
      "text/plain": [
       "'1\\nWhere we are heading    |     How we get there    |     What we are preparing\\nESG Special Report\\n2023 \\nNAVIGATING \\nUNCERTAINTIES TO ENSURE  \\nSUSTAINABLE \\nGROWTH\\n'"
      ]
     },
     "execution_count": 5,
     "metadata": {},
     "output_type": "execute_result"
    }
   ],
   "source": [
    "pages[0].page_content"
   ]
  },
  {
   "cell_type": "code",
   "execution_count": 6,
   "metadata": {},
   "outputs": [
    {
     "data": {
      "text/plain": [
       "{'source': '000660_SK_2023.pdf',\n",
       " 'file_path': '000660_SK_2023.pdf',\n",
       " 'page': 0,\n",
       " 'total_pages': 21,\n",
       " 'format': 'PDF 1.6',\n",
       " 'title': '',\n",
       " 'author': '',\n",
       " 'subject': '',\n",
       " 'keywords': '',\n",
       " 'creator': 'Adobe InDesign 16.2 (Macintosh)',\n",
       " 'producer': 'Adobe PDF Library 15.0',\n",
       " 'creationDate': \"D:20230626161631+09'00'\",\n",
       " 'modDate': \"D:20230626172106+09'00'\",\n",
       " 'trapped': ''}"
      ]
     },
     "execution_count": 6,
     "metadata": {},
     "output_type": "execute_result"
    }
   ],
   "source": [
    "pages[0].metadata"
   ]
  },
  {
   "cell_type": "markdown",
   "metadata": {},
   "source": [
    "# PyPDFDirectoryLoader"
   ]
  },
  {
   "cell_type": "code",
   "execution_count": 8,
   "metadata": {},
   "outputs": [
    {
     "data": {
      "text/plain": [
       "21"
      ]
     },
     "execution_count": 8,
     "metadata": {},
     "output_type": "execute_result"
    }
   ],
   "source": [
    "from langchain_community.document_loaders import PyPDFDirectoryLoader\n",
    "\n",
    "loader = PyPDFDirectoryLoader('./')\n",
    "data = loader.load()\n",
    "\n",
    "len(data)\n"
   ]
  },
  {
   "cell_type": "code",
   "execution_count": 10,
   "metadata": {},
   "outputs": [
    {
     "data": {
      "text/plain": [
       "Document(metadata={'source': '000660_SK_2023.pdf', 'page': 0}, page_content='1\\nWhere we are heading    |     How we get there    |     What we are preparing\\nESG Special Report\\n2023 \\nNAVIGATING \\nUNCERTAINTIES TO ENSURE  \\nSUSTAINABLE \\nGROWTH')"
      ]
     },
     "execution_count": 10,
     "metadata": {},
     "output_type": "execute_result"
    }
   ],
   "source": [
    "data[0]"
   ]
  }
 ],
 "metadata": {
  "kernelspec": {
   "display_name": "RAG",
   "language": "python",
   "name": "python3"
  },
  "language_info": {
   "codemirror_mode": {
    "name": "ipython",
    "version": 3
   },
   "file_extension": ".py",
   "mimetype": "text/x-python",
   "name": "python",
   "nbconvert_exporter": "python",
   "pygments_lexer": "ipython3",
   "version": "3.10.12"
  }
 },
 "nbformat": 4,
 "nbformat_minor": 2
}
